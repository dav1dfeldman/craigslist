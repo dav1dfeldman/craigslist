{
 "cells": [
  {
   "cell_type": "code",
   "execution_count": 1,
   "metadata": {
    "collapsed": false
   },
   "outputs": [],
   "source": [
    "import feedparser\n",
    "import bs4\n",
    "import requests\n",
    "import pandas as pd\n",
    "import re\n",
    "import os.path\n",
    "import numpy as np\n",
    "from collections import OrderedDict\n",
    "import itertools\n",
    "import matplotlib.pyplot as plt\n",
    "%matplotlib inline\n",
    "\n",
    "pd.set_option('display.max_colwidth', 100)"
   ]
  },
  {
   "cell_type": "code",
   "execution_count": 2,
   "metadata": {
    "collapsed": false
   },
   "outputs": [],
   "source": [
    "# make a list of search page urls\n",
    "unsearched_urls = []\n",
    "unsearched_urls.append('http://sfbay.craigslist.org/search/sfc/apa?')\n",
    "for i in range(1,25):    \n",
    "    unsearched_urls.append('http://sfbay.craigslist.org/search/sfc/apa?s=%d00' % i)"
   ]
  },
  {
   "cell_type": "code",
   "execution_count": 3,
   "metadata": {
    "collapsed": false
   },
   "outputs": [],
   "source": [
    "def get_html(url, html_list):\n",
    "    try:\n",
    "        r = requests.get(url, timeout=1)\n",
    "        r.raise_for_status()\n",
    "    except Exception:\n",
    "        return\n",
    "    html = bs4.BeautifulSoup(r.text)\n",
    "    html_list.append(html)"
   ]
  },
  {
   "cell_type": "code",
   "execution_count": 4,
   "metadata": {
    "collapsed": false
   },
   "outputs": [],
   "source": [
    "def find_unsearched(search_html, search_urls, re_term):\n",
    "    searched_urls = re.findall(re_term, str(search_html))\n",
    "    searched_urls = list(OrderedDict.fromkeys(searched_urls))\n",
    "    unsearched_urls = list(set(search_urls) - set(searched_urls))\n",
    "    return unsearched_urls"
   ]
  },
  {
   "cell_type": "markdown",
   "metadata": {},
   "source": [
    "## search"
   ]
  },
  {
   "cell_type": "code",
   "execution_count": 5,
   "metadata": {
    "collapsed": false
   },
   "outputs": [
    {
     "name": "stdout",
     "output_type": "stream",
     "text": [
      "pages scraped:  25\n",
      "number of unsearched urls:  0\n",
      "pages scraped:  25\n",
      "number of unsearched urls:  0\n",
      "pages scraped:  25\n",
      "number of unsearched urls:  0\n",
      "CPU times: user 235 ms, sys: 58.8 ms, total: 294 ms\n",
      "Wall time: 11.3 s\n"
     ]
    }
   ],
   "source": [
    "%%time\n",
    "# use urls to get all html from pages\n",
    "search_page_html = []\n",
    "re_search = 'http\\:\\/\\/sfbay\\.craigslist\\.org\\/search\\/sfc\\/apa\\?(?:s\\=\\d+)?'\n",
    "\n",
    "def get_search_html(url, html_list):\n",
    "\n",
    "    try:\n",
    "        r = requests.get(url, timeout=1)\n",
    "        r.raise_for_status()\n",
    "\n",
    "    except Exception:\n",
    "        return\n",
    "\n",
    "    html_list.append(r.text)\n",
    "    \n",
    "\n",
    "for i in range(3):    \n",
    "    for url in unsearched_urls:\n",
    "        get_search_html(url, search_page_html)\n",
    "    searched_urls = re.findall(re_search, str(search_page_html))\n",
    "    searched_urls = list(OrderedDict.fromkeys(searched_urls))\n",
    "    unsearched_urls = list(set(unsearched_urls) - set(searched_urls))\n",
    "    print 'pages scraped: ', len(searched_urls)\n",
    "    print 'number of unsearched urls: ', len(unsearched_urls)"
   ]
  },
  {
   "cell_type": "code",
   "execution_count": 6,
   "metadata": {
    "collapsed": false
   },
   "outputs": [
    {
     "data": {
      "text/plain": [
       "5000"
      ]
     },
     "execution_count": 6,
     "metadata": {},
     "output_type": "execute_result"
    }
   ],
   "source": [
    "url_links_end_half = []\n",
    "\n",
    "url_links_end_half = re.findall('\\/sfc\\/apa\\/\\d+\\.html', str(search_page_html))\n",
    "len(url_links_end_half)"
   ]
  },
  {
   "cell_type": "code",
   "execution_count": 7,
   "metadata": {
    "collapsed": false
   },
   "outputs": [
    {
     "name": "stdout",
     "output_type": "stream",
     "text": [
      "number of duplicates:  5000\n",
      "number of unique links kept:  2491\n"
     ]
    }
   ],
   "source": [
    "# there are duplicates\n",
    "print 'number of duplicates: ', len(url_links_end_half)\n",
    "\n",
    "# check and see all urls are unique\n",
    "links_list = list(OrderedDict.fromkeys(url_links_end_half))\n",
    "print 'number of unique links kept: ', len(links_list)"
   ]
  },
  {
   "cell_type": "code",
   "execution_count": 8,
   "metadata": {
    "collapsed": false
   },
   "outputs": [
    {
     "name": "stdout",
     "output_type": "stream",
     "text": [
      "did it come out right?  http://sfbay.craigslist.org/sfc/apa/4985368983.html\n"
     ]
    }
   ],
   "source": [
    "# append the pieces of the urls to the beginning part\n",
    "url_links = []\n",
    "for i in links_list:\n",
    "    url_links.append('http://sfbay.craigslist.org%s' % i)\n",
    "print 'did it come out right? ', url_links[0]"
   ]
  },
  {
   "cell_type": "code",
   "execution_count": 9,
   "metadata": {
    "collapsed": false
   },
   "outputs": [],
   "source": [
    "df_final = pd.read_csv('../craigslist_data/df_final.csv')"
   ]
  },
  {
   "cell_type": "code",
   "execution_count": 10,
   "metadata": {
    "collapsed": false
   },
   "outputs": [],
   "source": [
    "master_list = df_final.url.tolist()"
   ]
  },
  {
   "cell_type": "code",
   "execution_count": 11,
   "metadata": {
    "collapsed": false
   },
   "outputs": [
    {
     "name": "stdout",
     "output_type": "stream",
     "text": [
      "how many is not already in the data set:  1883\n"
     ]
    }
   ],
   "source": [
    "unscraped_links = set(url_links) - set(master_list)\n",
    "print 'how many is not already in the data set: ', len(unscraped_links)"
   ]
  },
  {
   "cell_type": "code",
   "execution_count": 12,
   "metadata": {
    "collapsed": false
   },
   "outputs": [
    {
     "name": "stdout",
     "output_type": "stream",
     "text": [
      "length of unsearched:  2\n",
      "length of unsearched:  0\n",
      "length of unsearched:  0\n",
      "CPU times: user 1min 10s, sys: 3.68 s, total: 1min 14s\n",
      "Wall time: 4min 55s\n"
     ]
    }
   ],
   "source": [
    "%%time\n",
    "links_html = []\n",
    "re_link = 'http\\:\\/\\/sfbay\\.craigslist\\.org\\/sfc\\/apa\\/\\d+\\.html'\n",
    "\n",
    "\n",
    "for i in range(3):\n",
    "    for url in unscraped_links:\n",
    "        get_html(url, links_html)\n",
    "    unscraped_links = find_unsearched(links_html, unscraped_links, re_link)\n",
    "    print 'length of unsearched: ', len(unscraped_links)\n"
   ]
  },
  {
   "cell_type": "markdown",
   "metadata": {},
   "source": [
    "len(links_html)\n",
    "html_master_pre_df = pd.read_csv('../craigslist_data/html_master_df.csv')\n",
    "html_master_pre_df.info()"
   ]
  },
  {
   "cell_type": "markdown",
   "metadata": {},
   "source": [
    "html_master_pre_list = html_master_pre_df.values.tolist()\n",
    "html_master_list = html_master_pre_list + links_html"
   ]
  },
  {
   "cell_type": "markdown",
   "metadata": {},
   "source": [
    "html_no_dup = list(html_master_list for html_master_list,_ in itertools.groupby(html_master_list))\n",
    "print 'number of html listings: ', len(html_master_list)\n",
    "print 'number of unique html listings: ', len(html_no_dup)"
   ]
  },
  {
   "cell_type": "code",
   "execution_count": 13,
   "metadata": {
    "collapsed": false
   },
   "outputs": [],
   "source": [
    "# all regex expressions in an ordered dictionary\n",
    "\n",
    "# OrderedDict() keeps the columns ordered in a data frame\n",
    "\n",
    "import collections\n",
    "\n",
    "flt_columns = collections.OrderedDict()\n",
    "flt_columns['rent'] = 'price\\\"\\>\\$\\d+(?:\\,\\d+)?'\n",
    "flt_columns['sq_ft'] = '(\\d+)</b>[ft]'\n",
    "flt_columns['bedrooms'] = '<span><b>([0-9])<\\/b>BR'\n",
    "flt_columns['bathrooms'] = '<b>([0-9]*\\.?[0-9]+)</b>Ba'\n",
    "flt_columns['neighborhood'] = \"small\\>\\s+\\(([^\\(\\)]+)\\)\\<\\/small\"\n",
    "flt_columns['latitude'] = '=\"\\d+\\.\\d+\"'\n",
    "flt_columns['longitude'] = '=\"-\\d+\\.\\d+\"'\n",
    "\n",
    "apa_columns = collections.OrderedDict()\n",
    "apa_columns['type_apartment'] = '<span>apartment'\n",
    "apa_columns['type_condo'] = '<span>condo'\n",
    "apa_columns['type_cottage/cabin'] = '<span>cottage\\/cabin'\n",
    "apa_columns['type_duplex'] = '<span>duplex'\n",
    "apa_columns['type_flat'] = '<span>flat'\n",
    "apa_columns['type_house'] = '<span>house'\n",
    "apa_columns['type_in-law'] = '<span>in-law'\n",
    "apa_columns['type_loft'] = '<span>loft'\n",
    "apa_columns['type_townhouse'] = '<span>townhouse'\n",
    "apa_columns['type_manufactured'] = '<span>manufactured'\n",
    "apa_columns['type_assisted_living'] = '<span>assisted living'\n",
    "apa_columns['type_land'] = '<span>land'\n",
    "\n",
    "rd_columns = collections.OrderedDict()\n",
    "rd_columns['carport'] = '<span>carport'\n",
    "rd_columns['attached_garage'] = '<span>attached garage'\n",
    "rd_columns['detached_garage'] = '<span>detached garage'\n",
    "rd_columns['off_street_parking'] = '<span>off-street parking'\n",
    "rd_columns['street_parking'] = '<span>street parking'\n",
    "rd_columns['valet_parking'] = '<span>valet parking'\n",
    "\n",
    "ld_columns = collections.OrderedDict()\n",
    "ld_columns['laundry_in_bldg'] = '<span>laundry in bldg'\n",
    "ld_columns['w/d_in_unit'] = '<span>w\\/d in unit'\n",
    "ld_columns['laundry_on_site'] = '<span>laundry on site'\n",
    "ld_columns['w/d_hookups'] = '<span>w\\/d hookups'\n",
    "\n",
    "cd_columns = collections.OrderedDict()\n",
    "cd_columns['cats_OK'] = '(cats are OK)'\n",
    "cd_columns['dogs_OK'] = '(dogs are OK)'\n",
    "\n",
    "ran_columns = collections.OrderedDict()\n",
    "ran_columns['wheelchair accessible'] = '<span>wheelchair accessible'\n",
    "ran_columns['no smoking'] = '<span>no smoking'\n",
    "ran_columns['furnished'] = '<span>furnished'\n",
    "\n",
    "url_columns = collections.OrderedDict()\n",
    "url_columns['url'] = 'http:\\/\\/sfbay.craigslist.org\\/sfc\\/apa\\/\\d+\\.html'\n",
    "url_columns['post_id'] = 'post id: \\d+'\n",
    "url_columns['date_time'] = 'datetime\\=\\\"\\d+\\-\\d+\\-\\d+'"
   ]
  },
  {
   "cell_type": "code",
   "execution_count": 14,
   "metadata": {
    "collapsed": false
   },
   "outputs": [],
   "source": [
    "columns_not_url = collections.OrderedDict(flt_columns.items() +\n",
    "                                  apa_columns.items() +\n",
    "                                  rd_columns.items() +\n",
    "                                  ld_columns.items() +\n",
    "                                  ran_columns.items()+\n",
    "                                  cd_columns.items())"
   ]
  },
  {
   "cell_type": "code",
   "execution_count": 15,
   "metadata": {
    "collapsed": false
   },
   "outputs": [],
   "source": [
    "columns = collections.OrderedDict(columns_not_url.items() + url_columns.items())\n"
   ]
  },
  {
   "cell_type": "code",
   "execution_count": 16,
   "metadata": {
    "collapsed": false
   },
   "outputs": [],
   "source": [
    "feature = re.findall(flt_columns['neighborhood'], str(links_html))"
   ]
  },
  {
   "cell_type": "code",
   "execution_count": 17,
   "metadata": {
    "collapsed": false
   },
   "outputs": [
    {
     "data": {
      "text/plain": [
       "1868"
      ]
     },
     "execution_count": 17,
     "metadata": {},
     "output_type": "execute_result"
    }
   ],
   "source": [
    "len(feature)"
   ]
  },
  {
   "cell_type": "code",
   "execution_count": 18,
   "metadata": {
    "collapsed": false
   },
   "outputs": [
    {
     "data": {
      "text/plain": [
       "1883"
      ]
     },
     "execution_count": 18,
     "metadata": {},
     "output_type": "execute_result"
    }
   ],
   "source": [
    "len(links_html)"
   ]
  },
  {
   "cell_type": "code",
   "execution_count": 19,
   "metadata": {
    "collapsed": false
   },
   "outputs": [
    {
     "name": "stdout",
     "output_type": "stream",
     "text": [
      "CPU times: user 7min 6s, sys: 5.88 s, total: 7min 12s\n",
      "Wall time: 7min 14s\n"
     ]
    }
   ],
   "source": [
    "%%time\n",
    "features_list = []\n",
    "def get_features(html_list):\n",
    "    for html in html_list:\n",
    "        # new list for a listings features\n",
    "        features = []\n",
    "        for key in columns:\n",
    "            # extract individual feature\n",
    "            feature = re.findall(columns[key], str(html))\n",
    "            # make a list of features for the listing's html\n",
    "            features.append(feature)\n",
    "        # make a list of listings' features\n",
    "        features_list.append(features)\n",
    "get_features(links_html)"
   ]
  },
  {
   "cell_type": "code",
   "execution_count": 20,
   "metadata": {
    "collapsed": false
   },
   "outputs": [
    {
     "name": "stdout",
     "output_type": "stream",
     "text": [
      "CPU times: user 11.9 ms, sys: 3.13 ms, total: 15 ms\n",
      "Wall time: 41 ms\n"
     ]
    }
   ],
   "source": [
    "%%time\n",
    "def list_to_df(lst):\n",
    "    return pd.DataFrame(lst, columns = columns)\n",
    "    \n",
    "features_df = list_to_df(features_list)"
   ]
  },
  {
   "cell_type": "code",
   "execution_count": 21,
   "metadata": {
    "collapsed": false
   },
   "outputs": [
    {
     "data": {
      "text/html": [
       "<div style=\"max-height:1000px;max-width:1500px;overflow:auto;\">\n",
       "<table border=\"1\" class=\"dataframe\">\n",
       "  <thead>\n",
       "    <tr style=\"text-align: right;\">\n",
       "      <th></th>\n",
       "      <th>rent</th>\n",
       "      <th>sq_ft</th>\n",
       "      <th>bedrooms</th>\n",
       "      <th>bathrooms</th>\n",
       "      <th>neighborhood</th>\n",
       "      <th>latitude</th>\n",
       "      <th>longitude</th>\n",
       "      <th>type_apartment</th>\n",
       "      <th>type_condo</th>\n",
       "      <th>type_cottage/cabin</th>\n",
       "      <th>...</th>\n",
       "      <th>laundry_on_site</th>\n",
       "      <th>w/d_hookups</th>\n",
       "      <th>wheelchair accessible</th>\n",
       "      <th>no smoking</th>\n",
       "      <th>furnished</th>\n",
       "      <th>cats_OK</th>\n",
       "      <th>dogs_OK</th>\n",
       "      <th>url</th>\n",
       "      <th>post_id</th>\n",
       "      <th>date_time</th>\n",
       "    </tr>\n",
       "  </thead>\n",
       "  <tbody>\n",
       "    <tr>\n",
       "      <th>0</th>\n",
       "      <td> [price\"&gt;$2915]</td>\n",
       "      <td> [332]</td>\n",
       "      <td> [0]</td>\n",
       "      <td> [1]</td>\n",
       "      <td> [inner sunset / UCSF]</td>\n",
       "      <td> [=\"37.759540\"]</td>\n",
       "      <td> [=\"-122.462864\"]</td>\n",
       "      <td> [&lt;span&gt;apartment]</td>\n",
       "      <td> []</td>\n",
       "      <td> []</td>\n",
       "      <td>...</td>\n",
       "      <td>                      []</td>\n",
       "      <td> []</td>\n",
       "      <td> [&lt;span&gt;wheelchair accessible]</td>\n",
       "      <td> []</td>\n",
       "      <td> []</td>\n",
       "      <td> [cats are OK]</td>\n",
       "      <td> [dogs are OK]</td>\n",
       "      <td> [http://sfbay.craigslist.org/sfc/apa/4984983237.html]</td>\n",
       "      <td> [post id: 4984983237]</td>\n",
       "      <td>                       [datetime=\"2015-04-18, datetime=\"2015-04-18]</td>\n",
       "    </tr>\n",
       "    <tr>\n",
       "      <th>1</th>\n",
       "      <td> [price\"&gt;$5595]</td>\n",
       "      <td>    []</td>\n",
       "      <td> [3]</td>\n",
       "      <td> [2]</td>\n",
       "      <td>        [potrero hill]</td>\n",
       "      <td> [=\"37.762246\"]</td>\n",
       "      <td> [=\"-122.395523\"]</td>\n",
       "      <td>                []</td>\n",
       "      <td> []</td>\n",
       "      <td> []</td>\n",
       "      <td>...</td>\n",
       "      <td> [&lt;span&gt;laundry on site]</td>\n",
       "      <td> []</td>\n",
       "      <td>                            []</td>\n",
       "      <td> []</td>\n",
       "      <td> []</td>\n",
       "      <td>            []</td>\n",
       "      <td>            []</td>\n",
       "      <td> [http://sfbay.craigslist.org/sfc/apa/4979470575.html]</td>\n",
       "      <td> [post id: 4979470575]</td>\n",
       "      <td> [datetime=\"2015-04-14, datetime=\"2015-04-14, datetime=\"2015-04-17]</td>\n",
       "    </tr>\n",
       "  </tbody>\n",
       "</table>\n",
       "<p>2 rows × 37 columns</p>\n",
       "</div>"
      ],
      "text/plain": [
       "             rent  sq_ft bedrooms bathrooms           neighborhood  \\\n",
       "0  [price\">$2915]  [332]      [0]       [1]  [inner sunset / UCSF]   \n",
       "1  [price\">$5595]     []      [3]       [2]         [potrero hill]   \n",
       "\n",
       "         latitude         longitude     type_apartment type_condo  \\\n",
       "0  [=\"37.759540\"]  [=\"-122.462864\"]  [<span>apartment]         []   \n",
       "1  [=\"37.762246\"]  [=\"-122.395523\"]                 []         []   \n",
       "\n",
       "  type_cottage/cabin  \\\n",
       "0                 []   \n",
       "1                 []   \n",
       "\n",
       "                                  ...                                  \\\n",
       "0                                 ...                                   \n",
       "1                                 ...                                   \n",
       "\n",
       "           laundry_on_site w/d_hookups          wheelchair accessible  \\\n",
       "0                       []          []  [<span>wheelchair accessible]   \n",
       "1  [<span>laundry on site]          []                             []   \n",
       "\n",
       "  no smoking furnished        cats_OK        dogs_OK  \\\n",
       "0         []        []  [cats are OK]  [dogs are OK]   \n",
       "1         []        []             []             []   \n",
       "\n",
       "                                                     url  \\\n",
       "0  [http://sfbay.craigslist.org/sfc/apa/4984983237.html]   \n",
       "1  [http://sfbay.craigslist.org/sfc/apa/4979470575.html]   \n",
       "\n",
       "                 post_id  \\\n",
       "0  [post id: 4984983237]   \n",
       "1  [post id: 4979470575]   \n",
       "\n",
       "                                                            date_time  \n",
       "0                        [datetime=\"2015-04-18, datetime=\"2015-04-18]  \n",
       "1  [datetime=\"2015-04-14, datetime=\"2015-04-14, datetime=\"2015-04-17]  \n",
       "\n",
       "[2 rows x 37 columns]"
      ]
     },
     "execution_count": 21,
     "metadata": {},
     "output_type": "execute_result"
    }
   ],
   "source": [
    "features_df.head(2)"
   ]
  },
  {
   "cell_type": "markdown",
   "metadata": {},
   "source": [
    "## clean re"
   ]
  },
  {
   "cell_type": "code",
   "execution_count": 22,
   "metadata": {
    "collapsed": false
   },
   "outputs": [],
   "source": [
    "def cleandata(string):\n",
    "    string = string.replace('[', '')\n",
    "    string = string.replace(']', '')\n",
    "    string = string.replace(\"'\", '')\n",
    "\n",
    "    return string\n",
    "\n",
    "for col in columns:\n",
    "    features_df[col] = features_df[col].astype(str).map(lambda x: cleandata(x))"
   ]
  },
  {
   "cell_type": "code",
   "execution_count": 23,
   "metadata": {
    "collapsed": false
   },
   "outputs": [],
   "source": [
    "def cleandata(string):\n",
    "    string = string.replace('span', '')\n",
    "    string = string.replace('price', '')\n",
    "    string = string.replace('<', '')\n",
    "    string = string.replace('>', '')\n",
    "    string = string.replace('\\\\n', '')\n",
    "    string = string.replace('/', '')\n",
    "    string = string.replace('\\\\', '')\n",
    "    string = string.replace('$', '')\n",
    "    string = string.replace('\"', '')\n",
    "    string = string.replace('=', '')\n",
    "\n",
    "\n",
    "    return string\n",
    "\n",
    "for col in columns_not_url:\n",
    "    features_df[col] = features_df[col].astype(str).map(lambda x: cleandata(x))"
   ]
  },
  {
   "cell_type": "code",
   "execution_count": 24,
   "metadata": {
    "collapsed": false
   },
   "outputs": [],
   "source": [
    "features_df.post_id = features_df.post_id.str.replace(r'[^\\d]+', '')"
   ]
  },
  {
   "cell_type": "code",
   "execution_count": 25,
   "metadata": {
    "collapsed": false
   },
   "outputs": [],
   "source": [
    "for col in features_df:\n",
    "    if features_df[col].dtype == object:\n",
    "        features_df[col] = features_df[col].str.lower()"
   ]
  },
  {
   "cell_type": "markdown",
   "metadata": {},
   "source": [
    "## apartments"
   ]
  },
  {
   "cell_type": "code",
   "execution_count": 26,
   "metadata": {
    "collapsed": false
   },
   "outputs": [],
   "source": [
    "features_df['apa'] = ''"
   ]
  },
  {
   "cell_type": "code",
   "execution_count": 27,
   "metadata": {
    "collapsed": false
   },
   "outputs": [],
   "source": [
    "# get all housing type names\n",
    "apa_names = apa_columns.keys()"
   ]
  },
  {
   "cell_type": "code",
   "execution_count": 28,
   "metadata": {
    "collapsed": false
   },
   "outputs": [],
   "source": [
    "# add each column to the blank space\n",
    "for col in apa_names:\n",
    "    features_df['apa'] = features_df['apa'].map(str) + features_df[col].map(str)"
   ]
  },
  {
   "cell_type": "code",
   "execution_count": 29,
   "metadata": {
    "collapsed": false
   },
   "outputs": [],
   "source": [
    "features_df = features_df.drop(apa_columns.keys(), axis = 1)"
   ]
  },
  {
   "cell_type": "markdown",
   "metadata": {},
   "source": [
    "## laundry"
   ]
  },
  {
   "cell_type": "code",
   "execution_count": 30,
   "metadata": {
    "collapsed": false
   },
   "outputs": [],
   "source": [
    "features_df['laundry'] = ''\n",
    "for col in ld_columns.keys():\n",
    "    features_df['laundry'] += features_df[col].map(str)"
   ]
  },
  {
   "cell_type": "code",
   "execution_count": 31,
   "metadata": {
    "collapsed": false
   },
   "outputs": [
    {
     "data": {
      "text/plain": [
       "wd in unit         705\n",
       "laundry in bldg    586\n",
       "                   431\n",
       "laundry on site    132\n",
       "wd hookups          29\n",
       "dtype: int64"
      ]
     },
     "execution_count": 31,
     "metadata": {},
     "output_type": "execute_result"
    }
   ],
   "source": [
    "features_df['laundry'].value_counts()"
   ]
  },
  {
   "cell_type": "code",
   "execution_count": 32,
   "metadata": {
    "collapsed": false
   },
   "outputs": [],
   "source": [
    "features_df = features_df.drop(ld_columns.keys(), axis = 1)"
   ]
  },
  {
   "cell_type": "markdown",
   "metadata": {},
   "source": [
    "## parking"
   ]
  },
  {
   "cell_type": "code",
   "execution_count": 33,
   "metadata": {
    "collapsed": false
   },
   "outputs": [],
   "source": [
    "features_df['parking'] = ''\n",
    "for col in rd_columns.keys():\n",
    "    features_df['parking'] += features_df[col].map(str)"
   ]
  },
  {
   "cell_type": "code",
   "execution_count": 34,
   "metadata": {
    "collapsed": false
   },
   "outputs": [],
   "source": [
    "features_df = features_df.drop(rd_columns.keys(), axis = 1)"
   ]
  },
  {
   "cell_type": "markdown",
   "metadata": {},
   "source": [
    "## binarize"
   ]
  },
  {
   "cell_type": "code",
   "execution_count": 35,
   "metadata": {
    "collapsed": false
   },
   "outputs": [],
   "source": [
    "def binarize(col):\n",
    "    features_df[col].replace(r'\\w+', 1, regex = True, inplace = True) \n",
    "    features_df[col].replace('', 0, regex = True, inplace = True)"
   ]
  },
  {
   "cell_type": "code",
   "execution_count": 36,
   "metadata": {
    "collapsed": false
   },
   "outputs": [],
   "source": [
    "def on_multiple(col_list):\n",
    "    for col in col_list:\n",
    "        binarize(col)"
   ]
  },
  {
   "cell_type": "code",
   "execution_count": 37,
   "metadata": {
    "collapsed": false
   },
   "outputs": [],
   "source": [
    "ran = ran_columns.keys()\n",
    "cd = cd_columns.keys()\n",
    "random_cols = ran + cd"
   ]
  },
  {
   "cell_type": "code",
   "execution_count": 38,
   "metadata": {
    "collapsed": false
   },
   "outputs": [],
   "source": [
    "on_multiple(random_cols)"
   ]
  },
  {
   "cell_type": "code",
   "execution_count": 39,
   "metadata": {
    "collapsed": false
   },
   "outputs": [],
   "source": [
    "features_df = features_df.replace('', np.nan, regex = True)"
   ]
  },
  {
   "cell_type": "code",
   "execution_count": 40,
   "metadata": {
    "collapsed": false
   },
   "outputs": [],
   "source": [
    "float_cols = ['rent', 'sq_ft', 'bedrooms', 'bathrooms', 'latitude', 'longitude']\n",
    "features_df[float_cols] = features_df[float_cols].astype(float)"
   ]
  },
  {
   "cell_type": "code",
   "execution_count": 41,
   "metadata": {
    "collapsed": false
   },
   "outputs": [],
   "source": [
    "import math\n",
    "# check for listings with missing rent prices but other non-missing data\n",
    "mask = []\n",
    "for i in range(0, len(features_df.rent)):\n",
    "    mask.append(math.isnan(features_df.rent[i]))"
   ]
  },
  {
   "cell_type": "code",
   "execution_count": 42,
   "metadata": {
    "collapsed": false
   },
   "outputs": [
    {
     "name": "stdout",
     "output_type": "stream",
     "text": [
      "number of null rents:  0\n"
     ]
    }
   ],
   "source": [
    "# count of non-missing\n",
    "mask = features_df[features_df.rent.isnull()].index.values.tolist()\n",
    "print 'number of null rents: ', len(mask)"
   ]
  },
  {
   "cell_type": "code",
   "execution_count": 43,
   "metadata": {
    "collapsed": false
   },
   "outputs": [],
   "source": [
    "features_df = features_df.drop(mask, axis = 0).reset_index(drop = True)"
   ]
  },
  {
   "cell_type": "code",
   "execution_count": 44,
   "metadata": {
    "collapsed": false
   },
   "outputs": [],
   "source": [
    "features_df.date_time = features_df.date_time.str.split().str[0].str.replace(r'[^\\d\\-]+', '')"
   ]
  },
  {
   "cell_type": "code",
   "execution_count": 45,
   "metadata": {
    "collapsed": false
   },
   "outputs": [],
   "source": [
    "from datetime import datetime\n",
    "features_df['date_time'] = features_df['date_time'].map(lambda x: datetime.strptime(x, '%Y-%m-%d'))"
   ]
  },
  {
   "cell_type": "code",
   "execution_count": 46,
   "metadata": {
    "collapsed": false
   },
   "outputs": [
    {
     "name": "stdout",
     "output_type": "stream",
     "text": [
      "<class 'pandas.core.frame.DataFrame'>\n",
      "Int64Index: 1883 entries, 0 to 1882\n",
      "Data columns (total 18 columns):\n",
      "rent                     1883 non-null float64\n",
      "sq_ft                    929 non-null float64\n",
      "bedrooms                 1881 non-null float64\n",
      "bathrooms                1792 non-null float64\n",
      "neighborhood             1868 non-null object\n",
      "latitude                 1683 non-null float64\n",
      "longitude                1683 non-null float64\n",
      "wheelchair accessible    1883 non-null int64\n",
      "no smoking               1883 non-null int64\n",
      "furnished                1883 non-null int64\n",
      "cats_OK                  1883 non-null int64\n",
      "dogs_OK                  1883 non-null int64\n",
      "url                      1883 non-null object\n",
      "post_id                  1883 non-null object\n",
      "date_time                1883 non-null datetime64[ns]\n",
      "apa                      1881 non-null object\n",
      "laundry                  1452 non-null object\n",
      "parking                  1215 non-null object\n",
      "dtypes: datetime64[ns](1), float64(6), int64(5), object(6)\n",
      "memory usage: 279.5+ KB\n"
     ]
    }
   ],
   "source": [
    "features_df.info()"
   ]
  },
  {
   "cell_type": "markdown",
   "metadata": {},
   "source": [
    "### saving new listings to a no GIS csv file"
   ]
  },
  {
   "cell_type": "code",
   "execution_count": 47,
   "metadata": {
    "collapsed": false
   },
   "outputs": [],
   "source": [
    "df_no_neighborhoods = pd.read_csv('../craigslist/data/df_no_neighborhoods.csv')"
   ]
  },
  {
   "cell_type": "code",
   "execution_count": 48,
   "metadata": {
    "collapsed": false
   },
   "outputs": [],
   "source": [
    "df_no_neighborhoods = pd.concat([df_no_neighborhoods, features_df], axis = 0)"
   ]
  },
  {
   "cell_type": "code",
   "execution_count": 49,
   "metadata": {
    "collapsed": false
   },
   "outputs": [],
   "source": [
    "df_no_neighborhoods.to_csv('../craigslist/data/df_no_neighborhoods.csv', index = False)"
   ]
  },
  {
   "cell_type": "code",
   "execution_count": 50,
   "metadata": {
    "collapsed": false
   },
   "outputs": [],
   "source": [
    "df_final.date_time = df_final.date_time.str.split().str[0].str.replace(r'[^\\d\\-]+', '').map(lambda x: datetime.strptime(x, '%Y-%m-%d'))"
   ]
  },
  {
   "cell_type": "code",
   "execution_count": 51,
   "metadata": {
    "collapsed": false
   },
   "outputs": [
    {
     "name": "stdout",
     "output_type": "stream",
     "text": [
      "<class 'pandas.core.frame.DataFrame'>\n",
      "Int64Index: 2995 entries, 0 to 1882\n",
      "Data columns (total 18 columns):\n",
      "rent                     2995 non-null float64\n",
      "sq_ft                    1528 non-null float64\n",
      "bedrooms                 2993 non-null float64\n",
      "bathrooms                2837 non-null float64\n",
      "neighborhood             2961 non-null object\n",
      "latitude                 2672 non-null float64\n",
      "longitude                2672 non-null float64\n",
      "wheelchair accessible    2995 non-null int64\n",
      "no smoking               2995 non-null int64\n",
      "furnished                2995 non-null int64\n",
      "cats_OK                  2995 non-null int64\n",
      "dogs_OK                  2995 non-null int64\n",
      "url                      2995 non-null object\n",
      "post_id                  2995 non-null object\n",
      "date_time                2995 non-null object\n",
      "apa                      2993 non-null object\n",
      "laundry                  2266 non-null object\n",
      "parking                  1873 non-null object\n",
      "dtypes: float64(6), int64(5), object(7)\n",
      "memory usage: 444.6+ KB\n"
     ]
    }
   ],
   "source": [
    "df_no_neighborhoods.info()"
   ]
  },
  {
   "cell_type": "code",
   "execution_count": 52,
   "metadata": {
    "collapsed": false
   },
   "outputs": [
    {
     "name": "stdout",
     "output_type": "stream",
     "text": [
      "<class 'pandas.core.frame.DataFrame'>\n",
      "Int64Index: 1883 entries, 0 to 1882\n",
      "Data columns (total 18 columns):\n",
      "rent                     1883 non-null float64\n",
      "sq_ft                    929 non-null float64\n",
      "bedrooms                 1881 non-null float64\n",
      "bathrooms                1792 non-null float64\n",
      "neighborhood             1868 non-null object\n",
      "latitude                 1683 non-null float64\n",
      "longitude                1683 non-null float64\n",
      "wheelchair accessible    1883 non-null int64\n",
      "no smoking               1883 non-null int64\n",
      "furnished                1883 non-null int64\n",
      "cats_OK                  1883 non-null int64\n",
      "dogs_OK                  1883 non-null int64\n",
      "url                      1883 non-null object\n",
      "post_id                  1883 non-null object\n",
      "date_time                1883 non-null datetime64[ns]\n",
      "apa                      1881 non-null object\n",
      "laundry                  1452 non-null object\n",
      "parking                  1215 non-null object\n",
      "dtypes: datetime64[ns](1), float64(6), int64(5), object(6)\n",
      "memory usage: 279.5+ KB\n"
     ]
    }
   ],
   "source": [
    "features_df.info()"
   ]
  },
  {
   "cell_type": "code",
   "execution_count": 53,
   "metadata": {
    "collapsed": false
   },
   "outputs": [],
   "source": [
    "total_df = pd.concat([df_final, features_df], axis = 0)"
   ]
  },
  {
   "cell_type": "code",
   "execution_count": 59,
   "metadata": {
    "collapsed": false
   },
   "outputs": [
    {
     "name": "stdout",
     "output_type": "stream",
     "text": [
      "<class 'pandas.core.frame.DataFrame'>\n",
      "Int64Index: 34025 entries, 0 to 1882\n",
      "Data columns (total 18 columns):\n",
      "apa                      34006 non-null object\n",
      "bathrooms                32022 non-null float64\n",
      "bedrooms                 34006 non-null float64\n",
      "cats_OK                  34025 non-null int64\n",
      "date_time                34025 non-null datetime64[ns]\n",
      "dogs_OK                  34025 non-null int64\n",
      "furnished                34025 non-null int64\n",
      "latitude                 29321 non-null float64\n",
      "laundry                  24992 non-null object\n",
      "longitude                29321 non-null float64\n",
      "neighborhood             33585 non-null object\n",
      "no smoking               34025 non-null int64\n",
      "parking                  20932 non-null object\n",
      "post_id                  34025 non-null object\n",
      "rent                     34025 non-null float64\n",
      "sq_ft                    16336 non-null float64\n",
      "url                      34025 non-null object\n",
      "wheelchair accessible    34025 non-null int64\n",
      "dtypes: datetime64[ns](1), float64(6), int64(5), object(6)\n",
      "memory usage: 4.9+ MB\n"
     ]
    }
   ],
   "source": [
    "total_df.info()"
   ]
  },
  {
   "cell_type": "code",
   "execution_count": 54,
   "metadata": {
    "collapsed": false
   },
   "outputs": [
    {
     "data": {
      "text/plain": [
       "<matplotlib.axes._subplots.AxesSubplot at 0x14e3352d0>"
      ]
     },
     "execution_count": 54,
     "metadata": {},
     "output_type": "execute_result"
    },
    {
     "data": {
      "image/png": "[encoded data removed]",
      "text/plain": [
       "<matplotlib.figure.Figure at 0x14e33f2d0>"
      ]
     },
     "metadata": {},
     "output_type": "display_data"
    }
   ],
   "source": [
    "total_df.date_time.value_counts().plot()"
   ]
  },
  {
   "cell_type": "code",
   "execution_count": 55,
   "metadata": {
    "collapsed": false,
    "scrolled": true
   },
   "outputs": [],
   "source": [
    "total_df = total_df.rename(columns = {'user_neighborhood' : 'neighborhood'})"
   ]
  },
  {
   "cell_type": "code",
   "execution_count": 56,
   "metadata": {
    "collapsed": false
   },
   "outputs": [],
   "source": [
    "total_df.to_csv('../craigslist_data/df_final.csv', index = None)"
   ]
  },
  {
   "cell_type": "code",
   "execution_count": 57,
   "metadata": {
    "collapsed": false
   },
   "outputs": [
    {
     "data": {
      "text/plain": [
       "2014-12-03     1\n",
       "2014-12-04     2\n",
       "2014-12-06     3\n",
       "2014-12-14     6\n",
       "2014-12-11     6\n",
       "2014-12-07     7\n",
       "2014-12-13     7\n",
       "2014-12-08     9\n",
       "2014-12-25     9\n",
       "2014-12-10    10\n",
       "2014-12-05    10\n",
       "2014-12-12    11\n",
       "2014-12-21    11\n",
       "2014-12-09    16\n",
       "2014-12-18    17\n",
       "...\n",
       "2015-03-13    433\n",
       "2015-02-17    442\n",
       "2015-04-16    443\n",
       "2015-01-07    445\n",
       "2015-03-02    448\n",
       "2015-02-06    449\n",
       "2015-03-27    460\n",
       "2015-02-27    465\n",
       "2015-03-06    517\n",
       "2015-04-10    531\n",
       "2015-04-17    538\n",
       "2015-03-23    541\n",
       "2015-01-31    546\n",
       "2015-01-30    648\n",
       "2015-02-02    792\n",
       "Length: 137"
      ]
     },
     "execution_count": 57,
     "metadata": {},
     "output_type": "execute_result"
    }
   ],
   "source": [
    "total_df.date_time.value_counts().order()"
   ]
  },
  {
   "cell_type": "code",
   "execution_count": null,
   "metadata": {
    "collapsed": false
   },
   "outputs": [],
   "source": [
    "len(html_master_pre_list)"
   ]
  },
  {
   "cell_type": "code",
   "execution_count": null,
   "metadata": {
    "collapsed": false
   },
   "outputs": [],
   "source": [
    "html_master_df = []\n",
    "for html in html_no_dup:\n",
    "    html_master_df.append(str(html))\n",
    "html_master_df = pd.DataFrame(html_master_df).rename(columns = {0:'url'})"
   ]
  },
  {
   "cell_type": "code",
   "execution_count": null,
   "metadata": {
    "collapsed": false
   },
   "outputs": [],
   "source": [
    "html_master_df.info()"
   ]
  },
  {
   "cell_type": "code",
   "execution_count": null,
   "metadata": {
    "collapsed": false
   },
   "outputs": [],
   "source": [
    "html_master_df.to_csv('../craigslist_data/html_master_df.csv')"
   ]
  },
  {
   "cell_type": "code",
   "execution_count": null,
   "metadata": {
    "collapsed": false
   },
   "outputs": [],
   "source": []
  },
  {
   "cell_type": "code",
   "execution_count": 55,
   "metadata": {
    "collapsed": false
   },
   "outputs": [
    {
     "ename": "NameError",
     "evalue": "name 'df_temp' is not defined",
     "output_type": "error",
     "traceback": [
      "\u001b[0;31m---------------------------------------------------------------------------\u001b[0m\n\u001b[0;31mNameError\u001b[0m                                 Traceback (most recent call last)",
      "\u001b[0;32m<ipython-input-55-327be0eb2965>\u001b[0m in \u001b[0;36m<module>\u001b[0;34m()\u001b[0m\n\u001b[0;32m----> 1\u001b[0;31m \u001b[0mbathrooms_df\u001b[0m \u001b[0;34m=\u001b[0m \u001b[0mdf_temp\u001b[0m\u001b[0;34m.\u001b[0m\u001b[0mloc\u001b[0m\u001b[0;34m[\u001b[0m\u001b[0;34m:\u001b[0m\u001b[0;34m,\u001b[0m\u001b[0mdf_dict\u001b[0m\u001b[0;34m[\u001b[0m\u001b[0;34m'bathrooms'\u001b[0m\u001b[0;34m]\u001b[0m\u001b[0;34m]\u001b[0m\u001b[0;34m\u001b[0m\u001b[0m\n\u001b[0m\u001b[1;32m      2\u001b[0m \u001b[0mbathrooms_df\u001b[0m \u001b[0;34m=\u001b[0m \u001b[0mbathrooms_df\u001b[0m\u001b[0;34m[\u001b[0m\u001b[0mbathrooms_df\u001b[0m\u001b[0;34m.\u001b[0m\u001b[0mbathrooms\u001b[0m\u001b[0;34m.\u001b[0m\u001b[0mnotnull\u001b[0m\u001b[0;34m(\u001b[0m\u001b[0;34m)\u001b[0m\u001b[0;34m]\u001b[0m\u001b[0;34m\u001b[0m\u001b[0m\n\u001b[1;32m      3\u001b[0m \u001b[0;34m\u001b[0m\u001b[0m\n\u001b[1;32m      4\u001b[0m \u001b[0mbedrooms_df\u001b[0m \u001b[0;34m=\u001b[0m \u001b[0mdf_temp\u001b[0m\u001b[0;34m.\u001b[0m\u001b[0mloc\u001b[0m\u001b[0;34m[\u001b[0m\u001b[0;34m:\u001b[0m\u001b[0;34m,\u001b[0m\u001b[0mdf_dict\u001b[0m\u001b[0;34m[\u001b[0m\u001b[0;34m'bedrooms'\u001b[0m\u001b[0;34m]\u001b[0m\u001b[0;34m]\u001b[0m\u001b[0;34m\u001b[0m\u001b[0m\n\u001b[1;32m      5\u001b[0m \u001b[0mbedrooms_df\u001b[0m \u001b[0;34m=\u001b[0m \u001b[0mbedrooms_df\u001b[0m\u001b[0;34m[\u001b[0m\u001b[0mbedrooms_df\u001b[0m\u001b[0;34m.\u001b[0m\u001b[0mbedrooms\u001b[0m\u001b[0;34m.\u001b[0m\u001b[0mnotnull\u001b[0m\u001b[0;34m(\u001b[0m\u001b[0;34m)\u001b[0m\u001b[0;34m]\u001b[0m\u001b[0;34m\u001b[0m\u001b[0m\n",
      "\u001b[0;31mNameError\u001b[0m: name 'df_temp' is not defined"
     ]
    }
   ],
   "source": [
    "bathrooms_df = df_temp.loc[:,df_dict['bathrooms']]\n",
    "bathrooms_df = bathrooms_df[bathrooms_df.bathrooms.notnull()]\n",
    "\n",
    "bedrooms_df = df_temp.loc[:,df_dict['bedrooms']]\n",
    "bedrooms_df = bedrooms_df[bedrooms_df.bedrooms.notnull()]\n",
    "\n",
    "cats_OK_df = df_temp.loc[:,df_dict['cats_OK']]\n",
    "cats_OK_df = cats_OK_df[cats_OK_df.cats_OK.notnull()].astype(float)\n",
    "\n",
    "dogs_OK_df  = df_temp.loc[:,df_dict['dogs_OK']]\n",
    "dogs_OK_df  = dogs_OK_df[dogs_OK_df.dogs_OK.notnull()]\n",
    "\n",
    "furnished_df   = df_temp.loc[:,df_dict['furnished']]\n",
    "furnished_df   = furnished_df[furnished_df.furnished.notnull()]\n",
    "\n",
    "smoking_df   = df_temp.loc[:,df_dict['no smoking']]\n",
    "smoking_df   = smoking_df[smoking_df['no smoking'].notnull()]\n",
    "\n",
    "rent_df   = df_temp.loc[:,df_dict['rent']]\n",
    "rent_df   = rent_df[rent_df.rent.notnull()]\n",
    "\n",
    "sq_ft_df   = df_temp.loc[:,df_dict['sq_ft']]\n",
    "sq_ft_df   = sq_ft_df[sq_ft_df.sq_ft.notnull()]\n",
    "\n",
    "wheelchair_df   = df_temp.loc[:,df_dict['wheelchair']]\n",
    "wheelchair_df   = wheelchair_df[wheelchair_df.wheelchair.notnull()]"
   ]
  },
  {
   "cell_type": "code",
   "execution_count": null,
   "metadata": {
    "collapsed": false
   },
   "outputs": [],
   "source": [
    "df_list = [bathrooms_df, bedrooms_df, cats_OK_df, dogs_OK_df,\n",
    "furnished_df, smoking_df, rent_df, sq_ft_df, wheelchair_df]"
   ]
  },
  {
   "cell_type": "code",
   "execution_count": null,
   "metadata": {
    "collapsed": false
   },
   "outputs": [],
   "source": [
    "for num, df in enumerate(df_list):\n",
    "    df.to_csv('map_dfs/%s.csv' % temp_cols[num])"
   ]
  },
  {
   "cell_type": "code",
   "execution_count": null,
   "metadata": {
    "collapsed": false
   },
   "outputs": [],
   "source": []
  },
  {
   "cell_type": "code",
   "execution_count": null,
   "metadata": {
    "collapsed": false
   },
   "outputs": [],
   "source": []
  },
  {
   "cell_type": "code",
   "execution_count": null,
   "metadata": {
    "collapsed": false
   },
   "outputs": [],
   "source": []
  },
  {
   "cell_type": "code",
   "execution_count": null,
   "metadata": {
    "collapsed": false
   },
   "outputs": [],
   "source": []
  },
  {
   "cell_type": "code",
   "execution_count": null,
   "metadata": {
    "collapsed": false
   },
   "outputs": [],
   "source": []
  },
  {
   "cell_type": "code",
   "execution_count": null,
   "metadata": {
    "collapsed": false
   },
   "outputs": [],
   "source": []
  }
 ],
 "metadata": {
  "kernelspec": {
   "display_name": "Python 2",
   "language": "python",
   "name": "python2"
  },
  "language_info": {
   "codemirror_mode": {
    "name": "ipython",
    "version": 2
   },
   "file_extension": ".py",
   "mimetype": "text/x-python",
   "name": "python",
   "nbconvert_exporter": "python",
   "pygments_lexer": "ipython2",
   "version": "2.7.9"
  }
 },
 "nbformat": 4,
 "nbformat_minor": 0
}
